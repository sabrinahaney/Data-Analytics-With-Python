{
 "cells": [
  {
   "cell_type": "markdown",
   "metadata": {},
   "source": [
    "# Assignment 1: NumPy Part 1\n"
   ]
  },
  {
   "cell_type": "markdown",
   "metadata": {},
   "source": [
    "## Learning Objectives\n",
    "This lesson meets the following learning objectives:\n",
    "\n",
    "- The ability to use Python data structures provided in NumPy."
   ]
  },
  {
   "cell_type": "markdown",
   "metadata": {},
   "source": [
    "## Instructions\n",
    "Read through all of the text in this page. This assignment provides step-by-step training divided into numbered sections. The sections often contain embeded exectable code for demonstration.  Section headers with icons have special meanings:  \n",
    "\n",
    "- <i class=\"fas fa-puzzle-piece\"></i> The puzzle icon indicates that the section provides a practice exercise that must be completed.  Follow the instructions for the exercise and do what it asks.  Exercises must be turned in for credit.\n",
    "- <i class=\"fa fa-cogs\"></i> The cogs icon indicates that the section provides a task to perform.  Follow the instructions to complete the task.  Tasks are not turned in for credit but must be completed to continue progress.\n",
    "\n",
    "Review the list of items in the **Expected Outcomes** section to check that you feel comfortable with the material you just learned. If you do not, then take some time to re-review that material again. If after re-review you are not comfortable, do not feel confident or do not understand the material, please ask questions on Slack to help.\n",
    "\n",
    "Follow the instructions in the **What to turn in** section to turn in the exercises of the assginment for course credit."
   ]
  },
  {
   "cell_type": "markdown",
   "metadata": {},
   "source": [
    "## Background\n",
    "This notebook is based on the official `NumPy` [documentation](https://docs.scipy.org/doc/numpy/user/quickstart.html).  Unless otherwise credited, quoted text comes from this document.  The Numpy documention describes NumPy in the following way:\n",
    "\n",
    "> NumPy is the fundamental package for scientific computing with Python. It contains among other things:\n",
    "> - a powerful N-dimensional array object\n",
    "> - sophisticated (broadcasting) functions\n",
    "> - tools for integrating C/C++ and Fortran code\n",
    "> - useful linear algebra, Fourier transform, and random number capabilities\n",
    ">\n",
    "> Besides its obvious scientific uses, NumPy can also be used as an efficient multi-dimensional container of generic data. Arbitrary data-types can be defined. This allows NumPy to seamlessly and speedily integrate with a wide variety of databases.\n"
   ]
  },
  {
   "cell_type": "code",
   "execution_count": null,
   "metadata": {},
   "outputs": [],
   "source": [
    "Questions:\n",
    "    1.Can initalized arrays like arrange np.arange((4,8,5)) be given a shape? or are they only a 1D single array?\n",
    "    2.  How would we take a row from our array and sum it?\n",
    "    3. 5.2 practice Line 25, why is the matching pair false? I predicted it should be true\n",
    "                    Line 32"
   ]
  },
  {
   "cell_type": "markdown",
   "metadata": {},
   "source": [
    "## <i class=\"fa fa-cogs\"></i> Notebook Setup\n",
    "First, we must import the NumPy library.  All packages are imported at the top of the notebook. Execute the code in the following cell to get started with this notebook (type Ctrl+Enter in the cell below)"
   ]
  },
  {
   "cell_type": "code",
   "execution_count": 2,
   "metadata": {},
   "outputs": [],
   "source": [
    "# Import numpy\n",
    "import numpy as np"
   ]
  },
  {
   "cell_type": "markdown",
   "metadata": {},
   "source": [
    "The code above imports numpy as a variable named `np`. We can use this variables to access the functionality of NumPy.  The above is what we will use for the rest of this class.\n",
    "\n",
    "You may be wondering why we didn't import numpy like this:  \n",
    "```python\n",
    "import numpy\n",
    "```\n",
    "We could, but the first is far more commonly seen, and allows us to the `np` variable to access the functions and variables of the NumPy package. This makes the code more readable because it is not a mystery where the functions come from that we are using."
   ]
  },
  {
   "cell_type": "markdown",
   "metadata": {},
   "source": [
    "## 1. The NumPy Array\n",
    "### 1.1. Learning\n",
    "What is an array?  An array is a data structure that stores one or more objects of the same type (e.g. integers, strings, etc.) and can be multi-dimensional (e.g. 2D matricies). In python, the list data type provides this type of functionality, however, it lacks important operations that make it useful for scientific computing.  Therefore, NumPy is a Python package that defines N-dimensional arrays and provides support for linear algebra, and other fucntions useful to scientific computing.\n",
    "\n",
    "From the Numpy QuickStart Tutorial: \n",
    "> NumPy’s main object is the homogeneous multidimensional array. It is a table of elements (usually numbers), all of the same type, indexed by a tuple of positive integers. In NumPy dimensions are called axes. \n",
    "\n",
    "<div class=\"alert alert-warning\">\n",
    "    <b>Note</b>:  a \"tuple\" is a list of numbers. For example, the pair of numbers surrounded by parentheses: (2,4), is a tuple containing two numbers.\n",
    "</div>\n",
    "\n",
    "NumPy arrays can be visualized in the following way:\n",
    "\n",
    "<img src=\"./media/A01-content_arrays-axes.png\">\n",
    "\n",
    "(image source: https://www.datacamp.com/community/tutorials/python-numpy-tutorial)"
   ]
  },
  {
   "cell_type": "markdown",
   "metadata": {},
   "source": [
    "Using built-in Python lists, arrays are created in the following way:\n",
    "\n",
    "```python\n",
    "# A 1-dimensional list of numbers.\n",
    "my_array = [1,2,3]  \n",
    "\n",
    "# A 2-dimensional list of numbers.\n",
    "my_2d_array = [[1,2,3],[4,5,6]]\n",
    "\n",
    "# A 3-dimensional list of numbers.\n",
    "my_3d_array = [[[1,2,3], [4,5,6]], [[7,8,9], [10,11,12]]]\n",
    "\n",
    "# Two lists of boolean values\n",
    "a = [True, True, False, False]\n",
    "b = [False, False, True, True]\n",
    "\n",
    "```"
   ]
  },
  {
   "cell_type": "markdown",
   "metadata": {},
   "source": [
    "Using NumPy, arrays are created using the `np.array()` function. For example, arrays with the same contents as above are created in the following way:\n",
    "\n",
    "```python\n",
    "# A 1-dimensional list of numbers.\n",
    "my_array = np.array([1,2,3,4])\n",
    "\n",
    "# A 2-dimensional list of numbers.\n",
    "my_2d_array = np.array([[1,2,3,4], [5,6,7,8]])\n",
    "\n",
    "# A 3-dimensional list of numbers.\n",
    "my_3d_array = np.array([[[1,2,3,4], [5,6,7,8]], [[1,2,3,4], [9,10,11,12]]])\n",
    "\n",
    "# Two lists of boolean values\n",
    "a = np.array([True,True,False,False])\n",
    "b = np.array([False,False,True,True])\n",
    "```\n",
    "\n",
    "In NumPy, these arrays are an object of type `ndarray`.  You can learn more about the `ndarray` class on the [NumPy ndarray introduction page](https://docs.scipy.org/doc/numpy/reference/arrays.ndarray.html). However, this tutorial will walk you through some of the most important attributes, functions and uses of NumPy."
   ]
  },
  {
   "cell_type": "markdown",
   "metadata": {},
   "source": [
    "### 1.2. <i class=\"fas fa-puzzle-piece\"></i> Practice\n",
    "\n",
    "Perform the following in the cell below.  \n",
    "- Create a 1-dimensional numpy array and print it.\n",
    "- Create a 2-dimensional numpy array and print it.\n",
    "- Create a 3-dimensional numpy array and print it."
   ]
  },
  {
   "cell_type": "code",
   "execution_count": 19,
   "metadata": {},
   "outputs": [
    {
     "name": "stdout",
     "output_type": "stream",
     "text": [
      "1D array [2 5 3 6]\n",
      "2D array [[2 5 3 6]\n",
      " [4 4 5 6]]\n",
      "3D array [[[2 5 3 6]\n",
      "  [4 4 5 6]]\n",
      "\n",
      " [[7 4 1 5]\n",
      "  [8 5 2 6]]]\n"
     ]
    }
   ],
   "source": [
    "array1 = np.array([2,5,3,6])\n",
    "print(\"1D array\", array1)\n",
    "array2 = np.array([[2,5,3,6], [4,4,5,6]])\n",
    "print(\"2D array\", array2) \n",
    "array3 = np.array([[[2,5,3,6], [4,4,5,6]], [[7,4,1,5], [8,5,2,6]]])\n",
    "print(\"3D array\", array3) "
   ]
  },
  {
   "cell_type": "markdown",
   "metadata": {},
   "source": [
    "## 2. Array Attributes\n",
    "### 2.1. Learning \n",
    "For this section we will retrieve information about the arrays. Once an array is created you can access information about the array such as the number of dimensions, its shape, its size, the data type that it stores, and the number of bytes it is consuming. There are a variety of attributes you can use such as:\n",
    "+ `ndim`\n",
    "+ `shape`\n",
    "+ `size`\n",
    "+ `dtype`\n",
    "+ `itemsize`\n",
    "+ `data`\n",
    "+ `nbytes`\n",
    "\n",
    "For example, to get the number of dimensions for an array:\n",
    "```Python\n",
    "# Print the number of dimensions for the array:\n",
    "print(my_3d_array.ndim)\n",
    "```\n",
    "\n",
    "You can learn more about these attributes, and others from the [NumPy ndarray reference page](https://docs.scipy.org/doc/numpy/reference/generated/numpy.ndarray.html) if you need help understanding the attributes.\n",
    "\n",
    "Notice that we use dot notation to access these attributes, yet we do not provide the parenthesis `()` like we would for a function call.  This is because we are accessing attributes (i.e. member variables) of the numpy object, we are not calling a function"
   ]
  },
  {
   "cell_type": "markdown",
   "metadata": {},
   "source": [
    "### 2.1. <i class=\"fas fa-puzzle-piece\"></i> Practice\n",
    "\n",
    "\n",
    "\n",
    "In the cell below, perform the following.\n",
    "\n",
    "- Create a NumPy array.\n",
    "- Write code that prints these attributes (one per line): `ndim`, `shape`, `size`, `dtype`, `itemsize`, `data`, `nbytes`.\n",
    "- Add a comment line, before each line describing what value the attribute returns. \n"
   ]
  },
  {
   "cell_type": "code",
   "execution_count": 43,
   "metadata": {},
   "outputs": [
    {
     "name": "stdout",
     "output_type": "stream",
     "text": [
      "[[[2 5 3 6]\n",
      "  [4 4 5 6]]\n",
      "\n",
      " [[7 4 1 5]\n",
      "  [8 5 2 6]]]\n",
      "3\n",
      "(2, 2, 4)\n",
      "16\n",
      "int32\n",
      "4\n",
      "4\n",
      "<memory at 0x000002C5EF984B80>\n",
      "64\n"
     ]
    }
   ],
   "source": [
    "#prints origional array\n",
    "print(array3)\n",
    "#prints the number of dimensions (3D)\n",
    "print(array3.ndim)\n",
    "#prints the shape: , 2 block groups, of 2 blocks each, with a string length of 4\n",
    "print(array3.shape)\n",
    "#print the size of array (number of characters)\n",
    "print(array3.size)\n",
    "#print the type of array, int that stores the number either 32 or 64, 8 bits in a byte, in a 8bytes in 64 bits, a byte is either a 0 or 1\n",
    "print(array3.dtype)\n",
    "#prints the item size: length of one array\n",
    "print(array3.itemsize)\n",
    "print(array2.itemsize)\n",
    "#prints data  location memory is stored\n",
    "print(array3.data)\n",
    "#prints nbytes that the array uses                        ???\n",
    "print(array3.nbytes)"
   ]
  },
  {
   "cell_type": "markdown",
   "metadata": {},
   "source": [
    "## 3. Creating Initialized Arrays\n",
    "### 3.1. Learning\n",
    "\n",
    "Here we will learn to create initialized arrays. These arrays are pre-initalized with default values.  NumPy provides a variety of functions for creating and intializing an array in easy-to-use functions. Some of these include: \n",
    "\n",
    "+ [np.ones()](https://docs.scipy.org/doc/numpy/reference/generated/numpy.ones.html#numpy.ones): Returns a new array of given shape and type, filled with ones.\n",
    "+ [np.zeroes()](https://docs.scipy.org/doc/numpy/reference/generated/numpy.zeros.html#numpy.zeros): Returns a new array of given shape and type, filled with zeros.\n",
    "+ [np.empty()](https://docs.scipy.org/doc/numpy/reference/generated/numpy.empty.html#numpy.empty): Return a new array of given shape and type, without initializing entries.\n",
    "+ [np.full()](https://docs.scipy.org/doc/numpy/reference/generated/numpy.full.html#numpy.full): Returns a new array of given shape and type, filled with a given fill value.\n",
    "+ [np.arange()](https://docs.scipy.org/doc/numpy/reference/generated/numpy.arange.html#numpy.arange): Returns a new array of evenly spaced values within a given interval.\n",
    "+ [np.linspace()](https://docs.scipy.org/doc/numpy/reference/generated/numpy.linspace.html#numpy.linspace): Returns a new array of evenly spaced numbers over a specified interval.\n",
    "+ [np.random.random](https://docs.scipy.org/doc/numpy-1.14.0/reference/generated/numpy.random.random.html): Can be used to return a single random value or an array of random values between 0 and 1.\n",
    "\n",
    "Take a moment, to learn more about the functions listed above by clicking on the function name as it links to the NumPy documentation.  Pay attention to the arguments that each receives and the type of output (i.e array) it generates.\n",
    "\n",
    "NumPy has a large list of array creation functions, you can learn more about these functions on the [array creation routins page](https://docs.scipy.org/doc/numpy/reference/routines.array-creation.html) of the NumPy documentation. \n",
    "\n",
    "To demonstrate the use of these functions, the following code will create a two-dimensional array with 3 rows and 4 columns (i.e 3 *x* 4) filled with 0's.  \n",
    "\n",
    "```Python\n",
    "zeros = np.zeros((3, 4))\n",
    "```\n",
    "\n",
    "The following creates a 1D array of values between 3 and 7\n",
    "\n",
    "```Python\n",
    "np.arange(3, 7)\n",
    "```\n",
    "The result is: `array([3, 4, 5, 6])`\n",
    "\n",
    "The following creates a 1D array of values between 0 and 10 spaced every 2 integers:\n",
    "\n",
    "```Python\n",
    "np.arange(0, 10, 2)\n",
    "```\n",
    "The result is: `array([0, 2, 4, 6, 8])`\n",
    "\n",
    "Notice that just like with Python list slicing, the range uncludes up-to, but not including the \"stop\" value of the range.\n"
   ]
  },
  {
   "cell_type": "markdown",
   "metadata": {},
   "source": [
    "### 3.1. <i class=\"fas fa-puzzle-piece\"></i> Practice\n",
    "\n",
    "In the cell below notebook, perform the following.\n",
    "\n",
    "+ Create an initialized array by using these functions:  `ones`, `zeros`, `empty`, `full`, `arange`, `linspace` and `random.random`. Be sure to follow each array creation with a call to `print()` to display your newly created arrays. \n",
    "+ Add a comment above each function call describing what is being done.  "
   ]
  },
  {
   "cell_type": "code",
   "execution_count": 59,
   "metadata": {},
   "outputs": [
    {
     "name": "stdout",
     "output_type": "stream",
     "text": [
      "[[1. 1. 1.]\n",
      " [1. 1. 1.]\n",
      " [1. 1. 1.]]\n",
      "[[[0. 0. 0. 0.]\n",
      "  [0. 0. 0. 0.]\n",
      "  [0. 0. 0. 0.]\n",
      "  [0. 0. 0. 0.]]\n",
      "\n",
      " [[0. 0. 0. 0.]\n",
      "  [0. 0. 0. 0.]\n",
      "  [0. 0. 0. 0.]\n",
      "  [0. 0. 0. 0.]]\n",
      "\n",
      " [[0. 0. 0. 0.]\n",
      "  [0. 0. 0. 0.]\n",
      "  [0. 0. 0. 0.]\n",
      "  [0. 0. 0. 0.]]\n",
      "\n",
      " [[0. 0. 0. 0.]\n",
      "  [0. 0. 0. 0.]\n",
      "  [0. 0. 0. 0.]\n",
      "  [0. 0. 0. 0.]]]\n",
      "[1.27319747e-313 2.54639495e-313 3.81959242e-313]\n",
      "[ 3  6  9 12 15 18]\n",
      "[ 3.  7. 11. 15. 19.]\n",
      "[[[0.71950575 0.99249972 0.11982328 0.60710574 0.8232414  0.952707  ]\n",
      "  [0.34008608 0.0088612  0.61018064 0.44242554 0.90270719 0.26006508]\n",
      "  [0.66471681 0.07355788 0.92774619 0.34681822 0.96525087 0.96598983]\n",
      "  [0.87500062 0.63152291 0.91881339 0.19469205 0.89757985 0.48339224]]\n",
      "\n",
      " [[0.21193026 0.51824305 0.51954634 0.31539492 0.66872748 0.46810269]\n",
      "  [0.85809124 0.33366137 0.31394057 0.43467945 0.2364875  0.24103987]\n",
      "  [0.28133847 0.72638137 0.23789959 0.14697436 0.32951107 0.25423269]\n",
      "  [0.52623789 0.86706087 0.66047347 0.53325155 0.9902675  0.66103241]]]\n"
     ]
    }
   ],
   "source": [
    "#prints a 2D array with ones\n",
    "ones = np.ones((3,3))\n",
    "print(ones)\n",
    "#prints a 3D array with zeros\n",
    "zeros = np.zeros((4,4,4)) \n",
    "print(zeros)\n",
    "#print an empty array in a string of length = 3, this will fill with the last numbers used\n",
    "empty = np.empty(3)\n",
    "print(empty)\n",
    "#print arranged array between 3 and 19 in increments by 3 (WHY CAN THE START VALUE BE INCLUDED BUT THE ENDING VALUE IS NOT (IF i \n",
    "# CHANGED THE END TO 18, IT IS NOT INCLUDED)\n",
    "arranged = np.arange(3,19,3)\n",
    "print(arranged)\n",
    "# Print linspace min value is 3 max value is 19, 5 numbers evenly spaced (in this case is 4 digits apart from one another)\n",
    "linspace = np.linspace(3,19,5)\n",
    "print(linspace)\n",
    "#print a random 3D array that is two arrays wide, 4 arrays tall, and has a string lengtth of 6\n",
    "random = np.random.random((2,4,6))\n",
    "print(random)"
   ]
  },
  {
   "cell_type": "markdown",
   "metadata": {},
   "source": [
    "## 4. Performing Math and Broadcasting\n",
    "### 4.1. Learning\n",
    "\n",
    "At times you may want to apply mathematical operations between arrays. For example, suppose you wanted to add, multiply or divide the contents of two arrays.  If the two arrays are the same size this is straightfoward. However if the arrays are not the same size then it is more challenging.  This is where Broadcasting comes to play:\n",
    "\n",
    "> The term broadcasting describes how numpy treats arrays with different shapes during arithmetic operations. Subject to certain constraints, the smaller array is “broadcast” across the larger array so that they have compatible shapes. (https://docs.scipy.org/doc/numpy/user/basics.broadcasting.html)\n"
   ]
  },
  {
   "cell_type": "markdown",
   "metadata": {},
   "source": [
    "#### 4.1.1. Arrays of the same size\n",
    "To demonstrate math with arrays of the same size, the following cell contains code that creates two arrays of the exact same size: _3 x 4_.  Execute the cell to create those arrays:"
   ]
  },
  {
   "cell_type": "code",
   "execution_count": 3,
   "metadata": {},
   "outputs": [
    {
     "name": "stdout",
     "output_type": "stream",
     "text": [
      "demo_a shape: (3, 4)\n",
      "demo_b Shape: (3, 4)\n"
     ]
    }
   ],
   "source": [
    "# Define demo arrays:\n",
    "demo_a = np.ones((3,4))\n",
    "demo_b = np.random.random((3,4))\n",
    "\n",
    "# Print the shapes of each array.\n",
    "print(f\"demo_a shape: {demo_a.shape}\")\n",
    "print(f\"demo_b Shape: {demo_b.shape}\")"
   ]
  },
  {
   "cell_type": "markdown",
   "metadata": {},
   "source": [
    "Let's print the array to see what they contain:"
   ]
  },
  {
   "cell_type": "code",
   "execution_count": 4,
   "metadata": {},
   "outputs": [
    {
     "name": "stdout",
     "output_type": "stream",
     "text": [
      "[[1. 1. 1. 1.]\n",
      " [1. 1. 1. 1.]\n",
      " [1. 1. 1. 1.]]\n",
      "[[0.69799204 0.26911871 0.80953264 0.51463135]\n",
      " [0.48453414 0.77120439 0.50636748 0.71153239]\n",
      " [0.70613757 0.86232    0.75668815 0.37292801]]\n"
     ]
    }
   ],
   "source": [
    "print(demo_a)\n",
    "print(demo_b)"
   ]
  },
  {
   "cell_type": "markdown",
   "metadata": {},
   "source": [
    "Because these arrays are the same size we can perform basic math by using common arithamtic symbols. Exectue the following cell to see the results of adding the two demo arrays:"
   ]
  },
  {
   "cell_type": "code",
   "execution_count": 62,
   "metadata": {},
   "outputs": [
    {
     "data": {
      "text/plain": [
       "array([[1.91103287, 1.56619473, 1.72699461, 1.78611096],\n",
       "       [1.24336926, 1.60345839, 1.6931009 , 1.18318456],\n",
       "       [1.23449768, 1.16625897, 1.66272342, 1.10902613]])"
      ]
     },
     "execution_count": 62,
     "metadata": {},
     "output_type": "execute_result"
    }
   ],
   "source": [
    "# These arrays have the same shape, \n",
    "demo_a + demo_b"
   ]
  },
  {
   "cell_type": "markdown",
   "metadata": {},
   "source": [
    "The addition resulted in the corresponding positions in each matrix being added to the other and creating a new matrix.  If you need clarification for how two matricies can be added or subtracted see the [Purple Math](https://www.purplemath.com/modules/mtrxadd.htm) site for examples."
   ]
  },
  {
   "cell_type": "markdown",
   "metadata": {},
   "source": [
    "#### 4.1.2. Broadcasting for Arrays of Different Sizes\n",
    "When arrays are not the same size, you cannot perform simple math.  For this, NumPy provides a service known as \"broadcasting\". To broadcast, NumPy automatically resizes the arrays to match, and fills in newly created empty cells with values.\n",
    "\n",
    "To Broadcast, NumPy begins at the right-most dimensions of the array and comparses them then moves left and compares the next set. As long as each set meet the following criteria, Broadcasting can be performed:\n",
    "\n",
    "+  The dimensions are equal or\n",
    "+  One of the dimensions is 1.\n",
    "\n",
    "Consider two arrays of the following dimensions:\n",
    "\n",
    "+ 4D array 1:  10 x 1 x 3 x 1\n",
    "+ 3D array 2:       2 x 1 x 9\n",
    "\n",
    "These arrays are not the same size, but they are compatible with broadcasting because at each diemsion (from right to left) the dimension crtieria is met. When performing math, the value in each dimension of size 1 is broadcast to fill that dimesion (an example is provided below). The resulting array, if the above arrays are added, will be broadcasted to a size of _10 x 2 x 3 x 9_"
   ]
  },
  {
   "cell_type": "markdown",
   "metadata": {},
   "source": [
    "To demonstrate math with arrays of different size, the following cell contains code that creates two arrays: one of size _3 x 4_ and onther of size _4 x 1_.  Execute the cell to create those arrays:"
   ]
  },
  {
   "cell_type": "code",
   "execution_count": 68,
   "metadata": {},
   "outputs": [
    {
     "name": "stdout",
     "output_type": "stream",
     "text": [
      "demo_c shape: (3, 4)\n",
      "demo_d Shape: (4,)\n"
     ]
    }
   ],
   "source": [
    "# Create the arrays.\n",
    "demo_c = np.ones((3,4))\n",
    "demo_d = np.arange(4)\n",
    "\n",
    "# Print the array shapes.\n",
    "print(f\"demo_c shape: {demo_c.shape}\")\n",
    "print(f\"demo_d Shape: {demo_d.shape}\")"
   ]
  },
  {
   "cell_type": "markdown",
   "metadata": {},
   "source": [
    "Let's print the array to see what they contain:"
   ]
  },
  {
   "cell_type": "code",
   "execution_count": 66,
   "metadata": {},
   "outputs": [
    {
     "name": "stdout",
     "output_type": "stream",
     "text": [
      "[[1. 1. 1. 1.]\n",
      " [1. 1. 1. 1.]\n",
      " [1. 1. 1. 1.]]\n",
      "[0 1 2 3]\n"
     ]
    }
   ],
   "source": [
    "print(demo_c)\n",
    "print(demo_d)"
   ]
  },
  {
   "cell_type": "markdown",
   "metadata": {},
   "source": [
    "Because these arrays meet our brodcasting requirements, we can perform basic math by using common arithamtic symbols. Exectue the following cell to see the results of adding the two demo arrays:"
   ]
  },
  {
   "cell_type": "code",
   "execution_count": 69,
   "metadata": {},
   "outputs": [
    {
     "data": {
      "text/plain": [
       "array([[1., 2., 3., 4.],\n",
       "       [1., 2., 3., 4.],\n",
       "       [1., 2., 3., 4.]])"
      ]
     },
     "execution_count": 69,
     "metadata": {},
     "output_type": "execute_result"
    }
   ],
   "source": [
    "demo_c + demo_d"
   ]
  },
  {
   "cell_type": "markdown",
   "metadata": {},
   "source": [
    "The addition resulted in the value in each dimension of size 1, being \"broadcast\" or \"streched\" throughout that dimesion and then used in the operation. "
   ]
  },
  {
   "cell_type": "markdown",
   "metadata": {},
   "source": [
    "#### 4.1.3. Broadcasting With Higher Dimensions"
   ]
  },
  {
   "cell_type": "markdown",
   "metadata": {},
   "source": [
    "Consider the following arrays of 2 and 3 dimensions. "
   ]
  },
  {
   "cell_type": "code",
   "execution_count": 5,
   "metadata": {},
   "outputs": [
    {
     "name": "stdout",
     "output_type": "stream",
     "text": [
      "demo_e shape: (3, 4)\n",
      "demo_f shape: (5, 1, 4)\n"
     ]
    }
   ],
   "source": [
    "demo_e = np.ones((3, 4))\n",
    "demo_f = np.random.random((5, 1, 4))\n",
    "print(f\"demo_e shape: {demo_e.shape}\")\n",
    "print(f\"demo_f shape: {demo_f.shape}\")"
   ]
  },
  {
   "cell_type": "markdown",
   "metadata": {},
   "source": [
    "Print the arrays to see what they contain:"
   ]
  },
  {
   "cell_type": "code",
   "execution_count": 6,
   "metadata": {},
   "outputs": [
    {
     "name": "stdout",
     "output_type": "stream",
     "text": [
      "[[1. 1. 1. 1.]\n",
      " [1. 1. 1. 1.]\n",
      " [1. 1. 1. 1.]]\n",
      "[[[3.43510203e-01 5.06715180e-01 2.60965850e-01 6.15917725e-01]]\n",
      "\n",
      " [[4.86050856e-01 1.16826927e-01 6.60276072e-01 4.32309863e-01]]\n",
      "\n",
      " [[5.38309197e-01 1.27093479e-01 6.33540581e-04 3.98672326e-01]]\n",
      "\n",
      " [[6.90497106e-01 9.92679238e-01 6.74194393e-01 5.72379590e-01]]\n",
      "\n",
      " [[1.27954222e-01 7.68002011e-01 1.06504566e-02 1.86205481e-01]]]\n"
     ]
    }
   ],
   "source": [
    "print(demo_e)\n",
    "print(demo_f)"
   ]
  },
  {
   "cell_type": "markdown",
   "metadata": {},
   "source": [
    "These two arrays meet the rules for broadcasting becuase they both have a 4 in their last dimension and there is a 1 in the  `demo_f` 2nd dimension.  \n",
    "\n",
    "Perform the math by executing the following cell:"
   ]
  },
  {
   "cell_type": "code",
   "execution_count": 7,
   "metadata": {},
   "outputs": [
    {
     "name": "stdout",
     "output_type": "stream",
     "text": [
      "[[[1.3435102  1.50671518 1.26096585 1.61591773]\n",
      "  [1.3435102  1.50671518 1.26096585 1.61591773]\n",
      "  [1.3435102  1.50671518 1.26096585 1.61591773]]\n",
      "\n",
      " [[1.48605086 1.11682693 1.66027607 1.43230986]\n",
      "  [1.48605086 1.11682693 1.66027607 1.43230986]\n",
      "  [1.48605086 1.11682693 1.66027607 1.43230986]]\n",
      "\n",
      " [[1.5383092  1.12709348 1.00063354 1.39867233]\n",
      "  [1.5383092  1.12709348 1.00063354 1.39867233]\n",
      "  [1.5383092  1.12709348 1.00063354 1.39867233]]\n",
      "\n",
      " [[1.69049711 1.99267924 1.67419439 1.57237959]\n",
      "  [1.69049711 1.99267924 1.67419439 1.57237959]\n",
      "  [1.69049711 1.99267924 1.67419439 1.57237959]]\n",
      "\n",
      " [[1.12795422 1.76800201 1.01065046 1.18620548]\n",
      "  [1.12795422 1.76800201 1.01065046 1.18620548]\n",
      "  [1.12795422 1.76800201 1.01065046 1.18620548]]]\n"
     ]
    }
   ],
   "source": [
    "result = demo_e + demo_f\n",
    "print(result)"
   ]
  },
  {
   "cell_type": "markdown",
   "metadata": {},
   "source": [
    "The resulting array has dimensions of _5 x 3 x 4_.  For this math to work, the values from `demo_f` had to be \"stretched\" (i.e. copied and then added) in the second dimension"
   ]
  },
  {
   "cell_type": "markdown",
   "metadata": {},
   "source": [
    "### 4.2. <i class=\"fas fa-puzzle-piece\"></i> Practice\n",
    "\n",
    "In the cell below notebook, perform the following.\n",
    "\n",
    "+ Create two arrays of differing sizes but compatible with broadcasting.\n",
    "+ Perform addition, multiplication and subtraction.\n",
    "+ Create two additional arrays of differing size that do not meet the rules for broadcasting and try a mathematical operation.  "
   ]
  },
  {
   "cell_type": "code",
   "execution_count": 17,
   "metadata": {},
   "outputs": [
    {
     "name": "stdout",
     "output_type": "stream",
     "text": [
      "array1: (8, 2, 6)\n",
      "array: (2, 6)\n",
      " array + array1 = [[[0.51200503 0.06136566 0.46344686 0.09997306 0.98779572 0.8326105 ]\n",
      "  [0.19640621 0.36303316 0.27640901 0.38277805 0.73543814 0.4305805 ]]\n",
      "\n",
      " [[0.53156569 0.86183126 0.88563425 0.47648053 0.32210848 0.76526543]\n",
      "  [0.91858818 0.79104799 0.22930416 0.54031521 0.22972061 0.96972101]]\n",
      "\n",
      " [[0.13078889 0.24694851 0.22310183 0.05817129 0.0143511  0.45362412]\n",
      "  [0.78830599 0.64565048 0.88071627 0.26374022 0.47325876 0.99882526]]\n",
      "\n",
      " [[0.96489404 0.44869936 0.48609794 0.51755626 0.06730617 0.31808852]\n",
      "  [0.51199484 0.54882058 0.36312737 0.44420852 0.34991119 0.00637008]]\n",
      "\n",
      " [[0.63951151 0.48900826 0.52808822 0.50088501 0.86902024 0.57433811]\n",
      "  [0.33092334 0.66182325 0.33355891 0.08965893 0.30127999 0.47024954]]\n",
      "\n",
      " [[0.57557192 0.58178695 0.88579592 0.43610492 0.72829675 0.23219365]\n",
      "  [0.04462688 0.13307806 0.31650753 0.94646047 0.97562856 0.92857087]]\n",
      "\n",
      " [[0.27508644 0.15833401 0.0723264  0.21830864 0.06664556 0.171001  ]\n",
      "  [0.08222109 0.1503564  0.83888725 0.2648281  0.30916649 0.51007397]]\n",
      "\n",
      " [[0.06663095 0.06257327 0.3723395  0.12730295 0.38752605 0.32555435]\n",
      "  [0.91950331 0.54484612 0.46185521 0.28515782 0.42286875 0.41991218]]]\n"
     ]
    }
   ],
   "source": [
    "array = np.random.random((8,2,6))\n",
    "array1 = np.zeros((2,6))\n",
    "print(f\"array1: {array.shape}\")\n",
    "print(f\"array: {array1.shape}\")\n",
    "\n",
    "print(f\" array + array1 = {array + array1}\")"
   ]
  },
  {
   "cell_type": "markdown",
   "metadata": {},
   "source": [
    "## 5. NumPy Aggregate Functions\n",
    "### 5.1. Learning\n",
    "\n",
    "NumPy also provides a variety of functions that \"aggregate\" data. Examples of aggreagation of data include calculating the sum of every element in the array, calculating the mean, standard deviation, etc.  Below are a few examples of aggregation functions provided by NumPy.\n",
    "\n",
    "#### 5.1.1 Mathematical Functions\n",
    "+ [np.sum()](https://docs.scipy.org/doc/numpy/reference/generated/numpy.sum.html): sums the array elements over a given axis\n",
    "+ [np.minimum()](https://docs.scipy.org/doc/numpy/reference/generated/numpy.minimum.html#numpy.minimum): compares two arrays and returns a new array of the minimum at each position (i.e. element-wise)\n",
    "+ [np.maximum()](https://docs.scipy.org/doc/numpy/reference/generated/numpy.maximum.html#numpy.maximum): compares two arrays and returns a new array of the maximum at each position (i.e. element-wise).\n",
    "+ [np.cumsum()](https://docs.scipy.org/doc/numpy/reference/generated/numpy.cumsum.html#numpy.cumsum): returns the cummulative sum of the elements along a given axes.\n",
    "\n",
    "You can find more about mathematical functions for arrays at the [Numpy mathematical functions page](https://docs.scipy.org/doc/numpy/reference/routines.math.html).\n",
    "\n",
    "#### 5.1.2 Statistics\n",
    "+ [np.mean()](https://docs.scipy.org/doc/numpy/reference/generated/numpy.mean.html): compute the arithmetic mean along the specified axis.\n",
    " [np.median()](https://docs.scipy.org/doc/numpy/reference/generated/numpy.median.html#numpy.median): compute the median along the specified axis.\n",
    "+ [np.corrcoef()](https://docs.scipy.org/doc/numpy/reference/generated/numpy.corrcoef.html#numpy.corrcoef): return Pearson product-moment correlation coefficients between two 1D arrays or one 2D array.\n",
    "+ [np.std()](https://docs.scipy.org/doc/numpy/reference/generated/numpy.std.html#numpy.std): compute the standard deviation along the specified axis.\n",
    "+ [np.var()](https://docs.scipy.org/doc/numpy/reference/generated/numpy.var.html#numpy.var): compute the variance along the specified axis.\n",
    "\n",
    "You can find more about statistical functions for arrays at the [Numpy statistical functions page](https://docs.scipy.org/doc/numpy/reference/routines.statistics.html).\n",
    "\n",
    "\n",
    "Take a moment, to learn more about the functions listed above by clicking on the function name as it links to the NumPy documentation.  Pay attention to the arguments that each receives and the type of output it generates.\n",
    "\n",
    "For example:\n",
    "```Python\n",
    "# Calculate the sum of our demo data from above\n",
    "np.sum(demo_e)\n",
    "```\n"
   ]
  },
  {
   "cell_type": "code",
   "execution_count": 21,
   "metadata": {},
   "outputs": [
    {
     "data": {
      "text/plain": [
       "12.0"
      ]
     },
     "execution_count": 21,
     "metadata": {},
     "output_type": "execute_result"
    }
   ],
   "source": [
    "sums = np.sum(demo_e)\n",
    "sums\n"
   ]
  },
  {
   "cell_type": "markdown",
   "metadata": {},
   "source": [
    "#### 5.1.3 Logical Aggregate Functions\n",
    "When arrays contain boolean values there are additional logical aggregation functions you can use: \n",
    "\n",
    " + [logical_and()](https://docs.scipy.org/doc/numpy/reference/generated/numpy.logical_and.html#numpy.logical_and): computes the element-wise truth value of two arrays using AND.\n",
    " + [logical_or()](https://docs.scipy.org/doc/numpy/reference/generated/numpy.logical_or.html#numpy.logical_or): computes the element-wise truth value of two arrays using OR.\n",
    " + [logical_not()](https://docs.scipy.org/doc/numpy/reference/generated/numpy.logical_not.html#numpy.logical_not):  computes the element-wise truth value of two arrays using NOT.\n",
    " \n",
    " \n",
    "You can find more about logical functions for arrays at the [Numpy Logic functions page](https://docs.scipy.org/doc/numpy/reference/routines.logic.html).\n",
    "\n",
    "Take a moment, to learn more about the functions listed above by clicking on the function name as it links to the NumPy documentation.  Pay attention to the arguments that each receives and the type of output it generates.\n",
    "\n",
    "To demonstrate usage of the logical functions, please execute the following cells and examine the results produced."
   ]
  },
  {
   "cell_type": "markdown",
   "metadata": {},
   "source": [
    "### 5.2. <i class=\"fas fa-puzzle-piece\"></i> Practice\n",
    "\n",
    "In the cell below notebook, perform the following.\n",
    "\n",
    "+ Create three to five arrays\n",
    "+ Experiment with each of the aggregation functions: `sum`, `minimum`, `maximum`, `cumsum`, `mean`, `np.corrcoef`, `np.std`, `np.var`. \n",
    "+ For each function call, add a comment line above it that describes what it does.  "
   ]
  },
  {
   "cell_type": "code",
   "execution_count": 37,
   "metadata": {},
   "outputs": [
    {
     "data": {
      "text/plain": [
       "array([ True,  True,  True, False])"
      ]
     },
     "execution_count": 37,
     "metadata": {},
     "output_type": "execute_result"
    }
   ],
   "source": [
    "# Two lists of boolean values- truth test, based on if it is true or not\n",
    "a = [True, True, False, False]\n",
    "b = [False, False, True, False]\n",
    "\n",
    "# Perform a logical \"or\": if True or False in in these positions it will be TRUE, if it is a matching pair it will be false\n",
    "#Seems like if it matches then it writes the match (True or False), and if it dosn't then it is False,- which dosn't seem to help Id the true \n",
    "#falses.\n",
    "np.logical_or(a, b)"
   ]
  },
  {
   "cell_type": "code",
   "execution_count": 42,
   "metadata": {},
   "outputs": [
    {
     "data": {
      "text/plain": [
       "array([False, False, False, False])"
      ]
     },
     "execution_count": 42,
     "metadata": {},
     "output_type": "execute_result"
    }
   ],
   "source": [
    "# Perform a logical \"and\": I predict it will be array([False, False, False, True])\n",
    "np.logical_and(a, b)"
   ]
  },
  {
   "cell_type": "markdown",
   "metadata": {},
   "source": [
    "### 5.3. <i class=\"fas fa-puzzle-piece\"></i> Practice\n",
    "\n",
    "In the cell below notebook, perform the following.\n",
    "\n",
    "+ Create two arrays containing boolean values.\n",
    "+ Experiment with each of the aggregation functions: `logical_and`, `logical_or`, `logical_not`. \n",
    "+ For each function call, add a comment line above it that describes what it does.  "
   ]
  },
  {
   "cell_type": "code",
   "execution_count": 41,
   "metadata": {
    "tags": []
   },
   "outputs": [
    {
     "name": "stdout",
     "output_type": "stream",
     "text": [
      "[False False False  True]\n",
      "[ True False  True  True]\n"
     ]
    }
   ],
   "source": [
    "array = [True, False, True, True]\n",
    "array1 = [False, False, False, True]\n",
    "\n",
    "#logical_and, I predict that it should give array([False, True, False, True])- \n",
    "And = np.logical_and(array, array1)\n",
    "print(And)\n",
    "#Logial_or, I predict that it will give array([True,False, True, False])- why does it print the last True if they match??\n",
    "Or = np.logical_or(array, array1)\n",
    "print(Or)"
   ]
  },
  {
   "cell_type": "markdown",
   "metadata": {},
   "source": [
    "## Expected Outcomes\n",
    "At this point, you should feel comfortable with the following:\n",
    " - What is a NumPy array\n",
    " - Using NumPy array attributes \n",
    " - Performing broadcasting\n",
    " - Using aggregate functions\n"
   ]
  },
  {
   "cell_type": "markdown",
   "metadata": {
    "jp-MarkdownHeadingCollapsed": true,
    "tags": []
   },
   "source": [
    "## What to Turn in?\n",
    "Be sure to **commit** and **push** your changes to this notebook.  All practice exercises should be completed.  Once completed, send a **Slack message** to the instructor indicating you have completed this assignment. The instructor will verify all work is completed. "
   ]
  }
 ],
 "metadata": {
  "kernelspec": {
   "display_name": "Python 3 (ipykernel)",
   "language": "python",
   "name": "python3"
  },
  "language_info": {
   "codemirror_mode": {
    "name": "ipython",
    "version": 3
   },
   "file_extension": ".py",
   "mimetype": "text/x-python",
   "name": "python",
   "nbconvert_exporter": "python",
   "pygments_lexer": "ipython3",
   "version": "3.9.7"
  }
 },
 "nbformat": 4,
 "nbformat_minor": 4
}
